{
 "cells": [
  {
   "cell_type": "code",
   "execution_count": 1,
   "id": "initial_id",
   "metadata": {
    "collapsed": true,
    "ExecuteTime": {
     "end_time": "2024-04-14T09:33:29.824531Z",
     "start_time": "2024-04-14T09:33:29.785229Z"
    }
   },
   "outputs": [],
   "source": [
    "import sys, os\n",
    "sys.path.append(os.pardir)  # 부모 디렉터리의 파일을 가져올 수 있도록 설정\n",
    "import numpy as np\n",
    "from dataset.mnist import load_mnist"
   ]
  },
  {
   "cell_type": "code",
   "outputs": [
    {
     "name": "stdout",
     "output_type": "stream",
     "text": [
      "(60000, 784)\n",
      "(60000, 10)\n"
     ]
    }
   ],
   "source": [
    "(x_train, t_train), (x_test, t_test) = load_mnist(normalize=True, one_hot_label=True)\n",
    "\n",
    "print(x_train.shape)\n",
    "print(t_train.shape)"
   ],
   "metadata": {
    "collapsed": false,
    "ExecuteTime": {
     "end_time": "2024-04-14T09:34:30.743977Z",
     "start_time": "2024-04-14T09:34:30.698494Z"
    }
   },
   "id": "a827947737f3b81",
   "execution_count": 4
  },
  {
   "cell_type": "code",
   "outputs": [
    {
     "name": "stdout",
     "output_type": "stream",
     "text": [
      "[21154 52863 44695 33480 29950 26832 24534 42895 23843 31190]\n"
     ]
    }
   ],
   "source": [
    "train_size = x_train.shape[0]\n",
    "batch_size = 10\n",
    "batch_mask = np.random.choice(train_size, batch_size)\n",
    "print(batch_mask) # 미니베치로 뽑아 낼 인덱스\n",
    "\n",
    "x_batch = x_train[batch_mask]\n",
    "t_batch = t_train[batch_mask]"
   ],
   "metadata": {
    "collapsed": false,
    "ExecuteTime": {
     "end_time": "2024-04-14T09:37:46.095540Z",
     "start_time": "2024-04-14T09:37:46.091034Z"
    }
   },
   "id": "8b3918f0e55ee574",
   "execution_count": 5
  },
  {
   "cell_type": "code",
   "outputs": [],
   "source": [
    "def cross_entropy(y_true, y_pred):\n",
    "    if y_pred.ndim == 1:\n",
    "        y_true = y_true.reshape(1, y_true.size)\n",
    "        y_pred = y_pred.reshape(1, y_pred.size)\n",
    "        \n",
    "    batch_size = y_pred.shape[0]\n",
    "    delta = 1e-7\n",
    "    \n",
    "    return -np.sum(y_true * np.log(y_pred + delta)) / batch_size"
   ],
   "metadata": {
    "collapsed": false
   },
   "id": "3bbe457ecb5b62de"
  }
 ],
 "metadata": {
  "kernelspec": {
   "display_name": "Python 3",
   "language": "python",
   "name": "python3"
  },
  "language_info": {
   "codemirror_mode": {
    "name": "ipython",
    "version": 2
   },
   "file_extension": ".py",
   "mimetype": "text/x-python",
   "name": "python",
   "nbconvert_exporter": "python",
   "pygments_lexer": "ipython2",
   "version": "2.7.6"
  }
 },
 "nbformat": 4,
 "nbformat_minor": 5
}
